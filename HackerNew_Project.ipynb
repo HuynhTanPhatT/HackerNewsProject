{
 "cells": [
  {
   "cell_type": "markdown",
   "id": "0673ab24-9c67-4fe0-b528-7eba0a6b6d43",
   "metadata": {},
   "source": [
    "# 📊 Project: Analyzing common posts and potential hours to post in Hacker New Community"
   ]
  },
  {
   "cell_type": "markdown",
   "id": "8bc7c788-5964-4861-bdca-7fc73188a75b",
   "metadata": {},
   "source": [
    "## Introduction\n",
    "With the explosive of growth in computer , there are lots of communities on online to help you searching and studying, for instance: ***StackOverFlow***, ***Reddit***, ***dev.to***, and ***HackerNew***. In this project, i am going to work as a Data Analyst to analyze \"Hacker New\" dataset.\n",
    "My aim for this project is to determine:\n",
    "- The potential hours to post in Hacker News Community\n",
    "- Which type of post is more common in the community: Ask HN or Show HN?\n",
    " 1. `Ask HN`: Users ask the Hackers New Commnutiy a specific question about: coding, websites, programming languages, etc.\n",
    " 2. `Show HN`: Users show to the Hackers New Comminity a project, product,etc."
   ]
  },
  {
   "cell_type": "markdown",
   "id": "f9c113de-5f9b-4e74-b981-e845ef403554",
   "metadata": {},
   "source": [
    "## Table of Contents\n",
    "1. [Project](#Project:Analyzing-common-posts-and-potential-hours-to-post-in-Hacker-New-Community)\n",
    "    * [Introduction](#Introduction)\n",
    "    * [Table of Contents](#Table-of-Contents)\n",
    "    * [Data Description](#Descriptions-of-the-columns)\n",
    "2. [Data Exploration](#Reading-and-Exploring-the-Data)\n",
    "    * [Data Quality Report](#Data-Quality-Report)\n",
    "    * [Post Type Analysis](#Calculating-which-type-of-post-is-more-common-in-the-community)\n",
    "    * [Common Interacted Post](#Determining-if-ask-posts-or-show-posts-receive-more-comments-on-average)\n",
    "3. [Average Comments](#Calculating-the-Average-Number-of-Comments-for-Ask-HN-Posts-by-Hour)\n",
    "    * [Optimal Posting Times](#If-ask-posts-created-at-a-certain-time-are-more-likely-to-attract-comments)\n",
    "    * [Recommendations](#The-potential-hours-to-post-in-Hacker-News-Community)\n",
    "4. [Conclusion](#Conclusion)"
   ]
  },
  {
   "cell_type": "markdown",
   "id": "a2730a76-08ca-484c-a341-dae441400ce6",
   "metadata": {},
   "source": [
    "## Descriptions of the columns\n",
    "1. id: the unique identifier from Hacker News for the post\n",
    "2. title: the title of the post\n",
    "3. url: the URL that the posts links to, if the post has a URL\n",
    "4. num_points: the number of points the post acquired, calculated as the total number of upvotes minus the total number of downvotes\n",
    "5. num_comments: the number of comments on the post\n",
    "6. author: the username of the person who submitted the post\n",
    "7. created_at: the date and time of the post's submission"
   ]
  },
  {
   "cell_type": "markdown",
   "id": "7c910c98-e94f-4fb7-984e-48f970681804",
   "metadata": {},
   "source": [
    "# Reading and Exploring the Data"
   ]
  },
  {
   "cell_type": "markdown",
   "id": "434b503d-95c7-4825-90a8-934bc3606d8a",
   "metadata": {},
   "source": [
    "- The URL for the dataset: https://www.kaggle.com/datasets/hacker-news/hacker-news-posts\n",
    "- You can find the data set here, but note that we have reduced from almost 300,000 rows to approximately 20,000 rows by removing all submissions that didn't receive any comments and then randomly sampling from the remaining submissions.\n",
    "- The date of the data from Sep 2015 to Sep 26 2016"
   ]
  },
  {
   "cell_type": "code",
   "execution_count": 7,
   "id": "ca9d4e59-c350-4a99-b5aa-b6f52d2d10ee",
   "metadata": {},
   "outputs": [],
   "source": [
    "# A Function to read the file_csv\n",
    "def extract_file(file_csv):\n",
    "    from csv import reader\n",
    "    with open(file_csv,encoding = 'utf-8') as opened_file:\n",
    "        read_file = reader(opened_file)\n",
    "        dataset = list(read_file)\n",
    "    return dataset"
   ]
  },
  {
   "cell_type": "code",
   "execution_count": 8,
   "id": "e6c28a9d-fed9-41c6-9cb7-430510c7db97",
   "metadata": {},
   "outputs": [],
   "source": [
    "hacker_new = extract_file('hacker_news.csv')\n",
    "header_hn = hacker_new[0]\n",
    "hacker_new = hacker_new[1:]"
   ]
  },
  {
   "cell_type": "markdown",
   "id": "3cf621b3-2887-450f-8865-49330397fd7a",
   "metadata": {},
   "source": [
    "To make it easier to read the dataset, i create a def(explore_data) to show rows starting by header and ending with a row you want, as well as showing the total number of apps."
   ]
  },
  {
   "cell_type": "code",
   "execution_count": 9,
   "id": "6ab01e8f-5861-498d-85f3-38cf53867a82",
   "metadata": {},
   "outputs": [],
   "source": [
    "def explore_data(dataset,start,end,rows_columns=False):\n",
    "    data_slice = dataset[start:end]\n",
    "    for space in data_slice:\n",
    "        display(space)\n",
    "        print(\"\\n\")\n",
    "    if rows_columns ==True:\n",
    "        print(f\"Number of Columns: {len(dataset[0])}\")\n",
    "        print(f\"Number of Rows: {len(dataset)}\")"
   ]
  },
  {
   "cell_type": "code",
   "execution_count": 10,
   "id": "3fc442c0-bb34-4fc4-a875-e116ad71a4e3",
   "metadata": {},
   "outputs": [
    {
     "name": "stdout",
     "output_type": "stream",
     "text": [
      "['id', 'title', 'url', 'num_points', 'num_comments', 'author', 'created_at']\n",
      "\n",
      "\n"
     ]
    },
    {
     "data": {
      "text/plain": [
       "['12224879',\n",
       " 'Interactive Dynamic Video',\n",
       " 'http://www.interactivedynamicvideo.com/',\n",
       " '386',\n",
       " '52',\n",
       " 'ne0phyte',\n",
       " '8/4/2016 11:52']"
      ]
     },
     "metadata": {},
     "output_type": "display_data"
    },
    {
     "name": "stdout",
     "output_type": "stream",
     "text": [
      "\n",
      "\n"
     ]
    },
    {
     "data": {
      "text/plain": [
       "['10975351',\n",
       " 'How to Use Open Source and Shut the Fuck Up at the Same Time',\n",
       " 'http://hueniverse.com/2016/01/26/how-to-use-open-source-and-shut-the-fuck-up-at-the-same-time/',\n",
       " '39',\n",
       " '10',\n",
       " 'josep2',\n",
       " '1/26/2016 19:30']"
      ]
     },
     "metadata": {},
     "output_type": "display_data"
    },
    {
     "name": "stdout",
     "output_type": "stream",
     "text": [
      "\n",
      "\n"
     ]
    },
    {
     "data": {
      "text/plain": [
       "['11964716',\n",
       " \"Florida DJs May Face Felony for April Fools' Water Joke\",\n",
       " 'http://www.thewire.com/entertainment/2013/04/florida-djs-april-fools-water-joke/63798/',\n",
       " '2',\n",
       " '1',\n",
       " 'vezycash',\n",
       " '6/23/2016 22:20']"
      ]
     },
     "metadata": {},
     "output_type": "display_data"
    },
    {
     "name": "stdout",
     "output_type": "stream",
     "text": [
      "\n",
      "\n"
     ]
    },
    {
     "data": {
      "text/plain": [
       "['11919867',\n",
       " 'Technology ventures: From Idea to Enterprise',\n",
       " 'https://www.amazon.com/Technology-Ventures-Enterprise-Thomas-Byers/dp/0073523429',\n",
       " '3',\n",
       " '1',\n",
       " 'hswarna',\n",
       " '6/17/2016 0:01']"
      ]
     },
     "metadata": {},
     "output_type": "display_data"
    },
    {
     "name": "stdout",
     "output_type": "stream",
     "text": [
      "\n",
      "\n"
     ]
    },
    {
     "data": {
      "text/plain": [
       "['10301696',\n",
       " 'Note by Note: The Making of Steinway L1037 (2007)',\n",
       " 'http://www.nytimes.com/2007/11/07/movies/07stein.html?_r=0',\n",
       " '8',\n",
       " '2',\n",
       " 'walterbell',\n",
       " '9/30/2015 4:12']"
      ]
     },
     "metadata": {},
     "output_type": "display_data"
    },
    {
     "name": "stdout",
     "output_type": "stream",
     "text": [
      "\n",
      "\n",
      "Number of Columns: 7\n",
      "Number of Rows: 20100\n"
     ]
    }
   ],
   "source": [
    "print(header_hn)\n",
    "print(\"\\n\")\n",
    "explore_data(hacker_new,0,5,True)"
   ]
  },
  {
   "cell_type": "markdown",
   "id": "a7366329-27bb-4fcd-bf39-f820f82a4684",
   "metadata": {},
   "source": [
    "## Data Quality Report"
   ]
  },
  {
   "cell_type": "markdown",
   "id": "9c5b6a9b-7e7b-41a9-802f-2c7e2c736e2c",
   "metadata": {},
   "source": [
    "Before analyzing the data, i am going to create a report to check the quality of data which i am working with."
   ]
  },
  {
   "cell_type": "code",
   "execution_count": 11,
   "id": "d087f037-6a9c-4171-96f7-86451817cc7b",
   "metadata": {},
   "outputs": [],
   "source": [
    "import pandas as pd\n",
    "Hacker_new = pd.read_csv('hacker_news.csv')"
   ]
  },
  {
   "cell_type": "code",
   "execution_count": 12,
   "id": "8201a1b6-b956-4a09-8d17-3c997d0be159",
   "metadata": {},
   "outputs": [],
   "source": [
    "def check_data_quality(df,column):\n",
    "    quality_report = {\n",
    "        'null_values': df.isnull().sum().to_dict(),\n",
    "        'duplicate_values': df[column].duplicated().sum(),\n",
    "        'unique_values': len(df[column].unique()),\n",
    "        'total_rows': len(df)\n",
    "        }\n",
    "    return quality_report"
   ]
  },
  {
   "cell_type": "markdown",
   "id": "8e41ae32-f4cb-47b3-96b7-c10677e3b2e3",
   "metadata": {},
   "source": [
    "Hacker New report based on Id column represents an user.If two rows have the same ID, they are considered duplicates."
   ]
  },
  {
   "cell_type": "code",
   "execution_count": 13,
   "id": "ee27ea19-296a-423e-bcc4-50ff939612dc",
   "metadata": {},
   "outputs": [
    {
     "data": {
      "text/plain": [
       "{'null_values': {'id': 0,\n",
       "  'title': 0,\n",
       "  'url': 2440,\n",
       "  'num_points': 0,\n",
       "  'num_comments': 0,\n",
       "  'author': 0,\n",
       "  'created_at': 0},\n",
       " 'duplicate_values': 0,\n",
       " 'unique_values': 20100,\n",
       " 'total_rows': 20100}"
      ]
     },
     "metadata": {},
     "output_type": "display_data"
    }
   ],
   "source": [
    "quality_report = check_data_quality(df=Hacker_new,column='id')\n",
    "display(quality_report)"
   ]
  },
  {
   "cell_type": "markdown",
   "id": "ca41ef56-40f7-4318-90cd-449c8da40eb2",
   "metadata": {},
   "source": [
    "There is no duplicate values in this dataset. About null values in ***URL column***, i just browsed the column and saw that partially null_values mean ***Title column*** including: \"Ask HN\". The data is consistent, we dont need to clean it."
   ]
  },
  {
   "cell_type": "markdown",
   "id": "29080fd2-d1c6-4d20-8f3f-9b197bf93a2b",
   "metadata": {},
   "source": [
    "## Calculating which type of post is more common in the community"
   ]
  },
  {
   "cell_type": "markdown",
   "id": "9bd788a2-6145-4c65-b7d9-e1ae9f408b9c",
   "metadata": {},
   "source": [
    "I am going to create three lists: `ask_posts`, `show_posts`, and `other_posts`. Then i will loop thourgh ***hacker_mew*** dataset. If title(row[1]) starts with `ask hn` or `show hn` by using ***startswith() method***.\n",
    "1. If it starts with `ask hn` => append to ask_posts\n",
    "2. __________________ `show hn` =>________ show_posts\n",
    "3. If it doesn't have `ask or show hn` => append to other posts\n",
    "\n",
    "<span style=\"color: red;\">*Note: Using lower() to make the data consistent and advoid an instance: there is a capitalized letter in \"ask or show hn\"</span>\n",
    "\n",
    "*Syntax: string.startswith(value, start, end)"
   ]
  },
  {
   "cell_type": "code",
   "execution_count": 14,
   "id": "f6cf30d8-50bd-4c13-bbc8-ebb2ec1481ce",
   "metadata": {},
   "outputs": [],
   "source": [
    "ask_posts = []\n",
    "show_posts = []\n",
    "other_posts = []\n",
    "for row in hacker_new:\n",
    "    title = row[1]\n",
    "    if title.lower().startswith(\"ask hn\",0,10):\n",
    "        ask_posts.append(row)\n",
    "    elif title.lower().startswith(\"show hn\",0,10):\n",
    "        show_posts.append(row)\n",
    "    else:\n",
    "        other_posts.append(row)"
   ]
  },
  {
   "cell_type": "code",
   "execution_count": 15,
   "id": "c8c53fa7-558f-4ff2-b6aa-5c152ecef48e",
   "metadata": {},
   "outputs": [
    {
     "name": "stdout",
     "output_type": "stream",
     "text": [
      "With 17,194 posts, \"Other\" posts represents 85.54% of the total\n",
      " \"Show\" and \"Ask\" posts account for only (1162 posts - 5.78%) and (1744 posts - 8.68%) of the total, respectively\n"
     ]
    }
   ],
   "source": [
    "print(f\"\"\"With {len(other_posts):,} posts, \"Other\" posts represents {round((len(other_posts)/len(hacker_new))*100,2)}% of the total\"\"\")\n",
    "print(f\"\"\" \"Show\" and \"Ask\" posts account for only ({len(show_posts)} posts - {round((len(show_posts)/len(hacker_new))*100,2)}%) and ({len(ask_posts)} posts - {round((len(ask_posts)/len(hacker_new))*100,2)}%) of the total, respectively\"\"\")"
   ]
  },
  {
   "cell_type": "markdown",
   "id": "7fffde35-02c0-4ea3-b53f-4869d99bf79c",
   "metadata": {},
   "source": [
    "Based on the report: it seems like the topic related to `\"Ask\" posts` have a higher number of posts and average percentage in the ***Hacker New Community*** compared to `\"Show\" posts`, with the difference of 582 posts and approximately 3%."
   ]
  },
  {
   "cell_type": "code",
   "execution_count": 16,
   "id": "152439e4-bc68-4db7-9d06-893fcf36355a",
   "metadata": {},
   "outputs": [
    {
     "data": {
      "image/png": "[encoded data removed]",
      "text/plain": [
       "<Figure size 640x480 with 1 Axes>"
      ]
     },
     "metadata": {},
     "output_type": "display_data"
    }
   ],
   "source": [
    "from matplotlib import pyplot as plt\n",
    "other_post = 85.54\n",
    "\n",
    "import numpy as np\n",
    "y = np.array([85.54,5.78,8.68])\n",
    "mylabels = ['Other Posts', 'Show Posts', 'Ask Posts']\n",
    "plt.pie(y,labels = mylabels,autopct='%1.1f%%')\n",
    "plt.legend()\n",
    "plt.show()"
   ]
  },
  {
   "cell_type": "markdown",
   "id": "fc2ddbe6-03a2-4c1c-92a4-6772a29de4d1",
   "metadata": {},
   "source": [
    "## Determining if ask posts or show posts receive more comments on average"
   ]
  },
  {
   "cell_type": "markdown",
   "id": "17eaaeff-9303-438c-a83f-36f5d84dae68",
   "metadata": {},
   "source": [
    "To calculate the average number of comments on posts, i am going to create a function that takes `3 parameters`:\n",
    "1. list_type = the dataset containing the posts.\n",
    "2. index = the index of the column from which i want to retrieve values\n",
    "3. post_type = the name of the post type (used for display)\n",
    "\n",
    "- Step 1: total_comments = 0 to calculate the sum of the comments\n",
    "- Step 2: Loop thourgh the list_type, i use\"try and except\" to avoide null_values and ValueError, also to convert [the number of comments] to int.\n",
    "- Step 3: Calculate the average : Average = Total / Len\n",
    "- Step 4: Use two code cells below to print  the average number of comments for `Ask_posts` and `show_posts`"
   ]
  },
  {
   "cell_type": "code",
   "execution_count": 17,
   "id": "6cf2cec6-c0e7-4adc-a496-b103cf6cb8ca",
   "metadata": {},
   "outputs": [],
   "source": [
    "def avg_comments(list_type,index,post_type):\n",
    "    total_comments = 0\n",
    "    for posts in list_type:\n",
    "        num_comments = posts[index]\n",
    "        try:\n",
    "            if num_comments !=\"\":\n",
    "                total_comments += int(num_comments)\n",
    "            elif num_comments ==\"\":\n",
    "                num_comments = 0\n",
    "        except ValueError:\n",
    "            num_comments = 0\n",
    "    print(f\"Total number of {post_type} comments: {total_comments}\")\n",
    "    print(f\"Average number of {post_type} comments: {total_comments / len(list_type)}\")"
   ]
  },
  {
   "cell_type": "code",
   "execution_count": 18,
   "id": "d8fb9590-06f7-4eed-93fd-8b70d71cb37d",
   "metadata": {},
   "outputs": [
    {
     "name": "stdout",
     "output_type": "stream",
     "text": [
      "Total number of Ask Post comments: 24483\n",
      "Average number of Ask Post comments: 14.038417431192661\n"
     ]
    }
   ],
   "source": [
    "avg_comments(ask_posts,4,\"Ask Post\")"
   ]
  },
  {
   "cell_type": "code",
   "execution_count": 19,
   "id": "f8870b6b-4014-4285-a3ff-bde306a5541d",
   "metadata": {},
   "outputs": [
    {
     "name": "stdout",
     "output_type": "stream",
     "text": [
      "Total number of Show Post comments: 11988\n",
      "Average number of Show Post comments: 10.31669535283993\n"
     ]
    }
   ],
   "source": [
    "avg_comments(show_posts,4,\"Show Post\")"
   ]
  },
  {
   "cell_type": "markdown",
   "id": "9e23a5cd-9a87-4981-a2d0-e2af2b40fab0",
   "metadata": {},
   "source": [
    "From these two calculations, we can see that users tend to interact more with `Ask Posts` than `Show Post` based on both metricss: total and average number of comments. This is because `Ask Posts` raise questions, people excitingly engage in and have discussions. In opposed to `Ask posts`, `a Show post` only shows a project with an URL for users to click and explore, which can lead to less interact on the post."
   ]
  },
  {
   "cell_type": "markdown",
   "id": "5d8ced58-4d0d-426a-ab8c-53e5e74e9ded",
   "metadata": {},
   "source": [
    "## Calculating the Average Number of Comments for Ask HN Posts by Hour"
   ]
  },
  {
   "cell_type": "markdown",
   "id": "0779a7a5-ed84-4bb2-bec4-0bbbeb1789bf",
   "metadata": {},
   "source": [
    "### If ask posts created at a certain time are more likely to attract comments.\n",
    "* Calculate the number of ask posts created in each hour of the day, along with the number of comments received.\n",
    "* Calculate the average number of comments ask posts receive by hour created."
   ]
  },
  {
   "cell_type": "markdown",
   "id": "a080bbdd-57da-47f9-8ae6-3d6a2da2d8b4",
   "metadata": {},
   "source": [
    "Firstly, to calculate the number of ask posts created in each hour, we need two metrics: format(hours) from column\"Created_at\" in row[-1] and Using to dict to calculate the sum of comments and count the number of comments like def (frequency_table).\n",
    "- ***Step 1***: Prepare modules: datetime and defaultdict module\n",
    "- ***Step 2***: Create 2 defaultdict: one is for count and another is for sum\n",
    "- ***Step 3***: Loop thourgh `Ask_posts\" dataset to retrieve values from row[4] and row[-1]\n",
    "- ***Step 4***: Use datetime.strptime to parse string as Dates and Strftime to format Dates to Hours\n",
    "- ***Step 5***: Count +=1 and sum += comment\n",
    "- ***Step 6***: conver defaultdict to dict and print\n",
    "\n",
    "<span style=\"color: red;\">*Note: I use defaultdict, because it automatically initialize the value to 0 when you encounter a new key, using a more concise approach than an if/else.</span>"
   ]
  },
  {
   "cell_type": "markdown",
   "id": "e59ed7aa-437a-4deb-8edb-466c9bb22b7e",
   "metadata": {},
   "source": [
    "* Calculate the number of ask posts created in each hour of the day, along with the number of comments received."
   ]
  },
  {
   "cell_type": "code",
   "execution_count": 20,
   "id": "df62ecba-c609-43a7-924f-6656eb4a4359",
   "metadata": {},
   "outputs": [
    {
     "name": "stdout",
     "output_type": "stream",
     "text": [
      "Comment by hour: {'09': 251, '13': 1253, '10': 793, '14': 1416, '16': 1814, '23': 543, '12': 687, '17': 1146, '15': 4477, '21': 1745, '20': 1722, '02': 1381, '18': 1439, '03': 421, '05': 464, '19': 1188, '01': 683, '22': 479, '08': 492, '04': 337, '00': 447, '06': 397, '07': 267, '11': 641}\n",
      "\n",
      "\n",
      "Count by hours: {'09': 45, '13': 85, '10': 59, '14': 107, '16': 108, '23': 68, '12': 73, '17': 100, '15': 116, '21': 109, '20': 80, '02': 58, '18': 109, '03': 54, '05': 46, '19': 110, '01': 60, '22': 71, '08': 48, '04': 47, '00': 55, '06': 44, '07': 34, '11': 58}\n"
     ]
    }
   ],
   "source": [
    "import datetime as dt\n",
    "\n",
    "from collections import defaultdict\n",
    "counts_by_hour = defaultdict(int) # ask posts created\n",
    "comments_by_hour = defaultdict(int) #Number of comments\n",
    "\n",
    "#Loop and use the defaultdict and datetime\n",
    "for row in ask_posts:\n",
    "    date_time = row[-1]\n",
    "    comment = int(row[4])\n",
    "    hour = dt.datetime.strptime(date_time, \"%m/%d/%Y %H:%M\").strftime(\"%H\")\n",
    "    counts_by_hour[hour] += 1 \n",
    "    comments_by_hour[hour] += comment\n",
    "\n",
    "#Convert defaultdict to dict\n",
    "counts_by_hour = dict(counts_by_hour)\n",
    "comments_by_hour = dict(comments_by_hour)\n",
    "\n",
    "#Display the result\n",
    "print(f\"Comment by hour: {comments_by_hour}\")\n",
    "print(\"\\n\")\n",
    "print(f\"Count by hours: {counts_by_hour}\")"
   ]
  },
  {
   "cell_type": "markdown",
   "id": "358a80b2-daaf-41d7-b7ad-26d357ac71a8",
   "metadata": {},
   "source": [
    "* Calculate the average number of comments ask posts receive by hour created."
   ]
  },
  {
   "cell_type": "code",
   "execution_count": 21,
   "id": "1d46987a-6014-41ce-93b8-4afd480a0b21",
   "metadata": {},
   "outputs": [
    {
     "name": "stdout",
     "output_type": "stream",
     "text": [
      "[('09', 5.5777777777777775), ('13', 14.741176470588234), ('10', 13.440677966101696), ('14', 13.233644859813085), ('16', 16.796296296296298), ('23', 7.985294117647059), ('12', 9.41095890410959), ('17', 11.46), ('15', 38.5948275862069), ('21', 16.009174311926607), ('20', 21.525), ('02', 23.810344827586206), ('18', 13.20183486238532), ('03', 7.796296296296297), ('05', 10.08695652173913), ('19', 10.8), ('01', 11.383333333333333), ('22', 6.746478873239437), ('08', 10.25), ('04', 7.170212765957447), ('00', 8.127272727272727), ('06', 9.022727272727273), ('07', 7.852941176470588), ('11', 11.051724137931034)]\n",
      "\n",
      "\n"
     ]
    }
   ],
   "source": [
    "avg_comment_by_hour = []\n",
    "for hr in comments_by_hour:\n",
    "    average = comments_by_hour[hr] / counts_by_hour[hr]\n",
    "    avg_comment_by_hour.append((hr,average))\n",
    "print(avg_comment_by_hour)\n",
    "print(\"\\n\")"
   ]
  },
  {
   "cell_type": "markdown",
   "id": "eb3cd173-02cc-43ac-b1d2-19c83e6866d1",
   "metadata": {},
   "source": [
    "### The potential hours to post in Hacker News Community"
   ]
  },
  {
   "cell_type": "markdown",
   "id": "22cfa676-079f-461d-81cd-9b00f5decd15",
   "metadata": {},
   "source": [
    "Although we now have the results we need, this format makes it difficult to identify the hours with the highest values. Let's finish by sorting the list of lists and printing the five highest values in a format that's easier to read."
   ]
  },
  {
   "cell_type": "code",
   "execution_count": 22,
   "id": "1385bf78-6a09-416d-9dc0-f49c457ebaae",
   "metadata": {},
   "outputs": [
    {
     "name": "stdout",
     "output_type": "stream",
     "text": [
      "Top 5 Hours for Ask Post Comments\n",
      "15:00 | 38.59 average comments per post\n",
      "02:00 | 23.81 average comments per post\n",
      "20:00 | 21.52 average comments per post\n",
      "16:00 | 16.80 average comments per post\n",
      "21:00 | 16.01 average comments per post\n"
     ]
    }
   ],
   "source": [
    "#Top 5 Hours for Ask Post comments\n",
    "top_5_hour = sorted(avg_comment_by_hour,key=lambda x:x[1],reverse=True)[:5]\n",
    "print(\"Top 5 Hours for Ask Post Comments\")\n",
    "for hr,avg in top_5_hour:\n",
    "    print(f\"\"\"{dt.datetime.strptime(hr,\"%H\").strftime(\"%H:%M\")} | {avg:.2f} average comments per post\"\"\") #00 -> 00:00"
   ]
  },
  {
   "cell_type": "markdown",
   "id": "03dc7ad1-ea5c-41b7-9510-edf9a7e50f43",
   "metadata": {},
   "source": [
    "# Conclusion"
   ]
  },
  {
   "cell_type": "markdown",
   "id": "ab5c0807-710d-4872-a450-90c5e4ca37f7",
   "metadata": {},
   "source": [
    "✅ According to the \"TOP 5 Hours for Ask Post Comments\", the best time to post is 15:00 (3:00 PM) (in the Western US). In my country, VietNam, the time to post in Hack New Community is `5:00 AM, 6:00 AM, 10:00 AM, 11:00 AM, and 16:00 PM` the next day."
   ]
  },
  {
   "cell_type": "code",
   "execution_count": 23,
   "id": "8f2bd1b4-347e-401d-bd5e-78339667ee26",
   "metadata": {},
   "outputs": [
    {
     "name": "stdout",
     "output_type": "stream",
     "text": [
      "05:00 | 38.59 average comments per post in VietNam\n",
      "16:00 | 23.81 average comments per post in VietNam\n",
      "10:00 | 21.52 average comments per post in VietNam\n",
      "06:00 | 16.80 average comments per post in VietNam\n",
      "11:00 | 16.01 average comments per post in VietNam\n"
     ]
    }
   ],
   "source": [
    "# Difference in time between US and VietNam (+14)\n",
    "hour_14 = dt.timedelta(hours = 14)\n",
    "\n",
    "# Top 5 Hours for posting in Hack New Community following Vietnam's time\n",
    "for hr,avg in top_5_hour:\n",
    "    print(f\"\"\"{(dt.datetime.strptime(hr,\"%H\") + hour_14).strftime(\"%H:%M\")} | {avg:.2f} average comments per post in VietNam\"\"\")"
   ]
  }
 ],
 "metadata": {
  "kernelspec": {
   "display_name": "base",
   "language": "python",
   "name": "python3"
  },
  "language_info": {
   "codemirror_mode": {
    "name": "ipython",
    "version": 3
   },
   "file_extension": ".py",
   "mimetype": "text/x-python",
   "name": "python",
   "nbconvert_exporter": "python",
   "pygments_lexer": "ipython3",
   "version": "3.12.3"
  }
 },
 "nbformat": 4,
 "nbformat_minor": 5
}
